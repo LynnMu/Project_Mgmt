{
 "cells": [
  {
   "cell_type": "code",
   "execution_count": 19,
   "id": "c8fe4121",
   "metadata": {},
   "outputs": [],
   "source": [
    "import pandas as pd\n",
    "import numpy as np"
   ]
  },
  {
   "cell_type": "code",
   "execution_count": 14,
   "id": "8aa7ce11",
   "metadata": {},
   "outputs": [],
   "source": [
    "gdf = pd.read_csv('assigned_groups_edited.csv').set_index('group_name')"
   ]
  },
  {
   "cell_type": "code",
   "execution_count": 16,
   "id": "8ead1e56",
   "metadata": {},
   "outputs": [],
   "source": [
    "nlist = []\n",
    "klist = []\n",
    "for k,row in gdf.iterrows():\n",
    "    for y in row['names'].split(','):\n",
    "        klist.append(k)\n",
    "        nlist.append(y.strip())\n",
    "pdf = pd.DataFrame({'name':nlist,'group':klist}).set_index('name')"
   ]
  },
  {
   "cell_type": "code",
   "execution_count": 18,
   "id": "152328d9",
   "metadata": {},
   "outputs": [
    {
     "data": {
      "text/plain": [
       "array(['Group000', 'Group001', 'Group002', 'Group003', 'Group004',\n",
       "       'Group005', 'Group006', 'Group007', 'Group008', 'Group009',\n",
       "       'Group010', 'Group011', 'Group012', 'Group013', 'Group014',\n",
       "       'Group015', 'Group016', 'Group017', 'Group018', 'Group019',\n",
       "       'Group020', 'Group021', 'Group022', 'Group023', 'Group024',\n",
       "       'Group025', 'Group026', 'Group027', 'Group028', 'Group029',\n",
       "       'Group030', 'Group031', 'Group032', 'Group033', 'Group034',\n",
       "       'Group035', 'Group036', 'Group037', 'Group038', 'Group040',\n",
       "       'Group041', 'Group042', 'Group043', 'Group044', 'Group045',\n",
       "       'Group046', 'Group047', 'Group048', 'Group049', 'Group050',\n",
       "       'Group051', 'Group052', 'Group053', 'Group054', 'Group055',\n",
       "       'Group056', 'Group057', 'Group058'], dtype=object)"
      ]
     },
     "execution_count": 18,
     "metadata": {},
     "output_type": "execute_result"
    }
   ],
   "source": [
    "glist = pdf.group.unique()\n",
    "glist"
   ]
  },
  {
   "cell_type": "code",
   "execution_count": 33,
   "id": "e2165982",
   "metadata": {},
   "outputs": [
    {
     "data": {
      "text/html": [
       "<div>\n",
       "<style scoped>\n",
       "    .dataframe tbody tr th:only-of-type {\n",
       "        vertical-align: middle;\n",
       "    }\n",
       "\n",
       "    .dataframe tbody tr th {\n",
       "        vertical-align: top;\n",
       "    }\n",
       "\n",
       "    .dataframe thead th {\n",
       "        text-align: right;\n",
       "    }\n",
       "</style>\n",
       "<table border=\"1\" class=\"dataframe\">\n",
       "  <thead>\n",
       "    <tr style=\"text-align: right;\">\n",
       "      <th></th>\n",
       "      <th>group</th>\n",
       "      <th>should review</th>\n",
       "    </tr>\n",
       "    <tr>\n",
       "      <th>name</th>\n",
       "      <th></th>\n",
       "      <th></th>\n",
       "    </tr>\n",
       "  </thead>\n",
       "  <tbody>\n",
       "    <tr>\n",
       "      <th>Ana Cunha</th>\n",
       "      <td>Group000</td>\n",
       "      <td>Group005</td>\n",
       "    </tr>\n",
       "    <tr>\n",
       "      <th>Esmeralda Mejia-Trejo</th>\n",
       "      <td>Group000</td>\n",
       "      <td>Group003</td>\n",
       "    </tr>\n",
       "    <tr>\n",
       "      <th>Kimberly Johnson</th>\n",
       "      <td>Group000</td>\n",
       "      <td>Group001</td>\n",
       "    </tr>\n",
       "    <tr>\n",
       "      <th>Alan Cao</th>\n",
       "      <td>Group001</td>\n",
       "      <td>Group017</td>\n",
       "    </tr>\n",
       "    <tr>\n",
       "      <th>Robert Aispuro</th>\n",
       "      <td>Group001</td>\n",
       "      <td>Group045</td>\n",
       "    </tr>\n",
       "    <tr>\n",
       "      <th>...</th>\n",
       "      <td>...</td>\n",
       "      <td>...</td>\n",
       "    </tr>\n",
       "    <tr>\n",
       "      <th>Jalani Bowman</th>\n",
       "      <td>Group057</td>\n",
       "      <td>Group043</td>\n",
       "    </tr>\n",
       "    <tr>\n",
       "      <th>Alexander Huynh</th>\n",
       "      <td>Group058</td>\n",
       "      <td>Group058</td>\n",
       "    </tr>\n",
       "    <tr>\n",
       "      <th>Jenny Vu</th>\n",
       "      <td>Group058</td>\n",
       "      <td>Group017</td>\n",
       "    </tr>\n",
       "    <tr>\n",
       "      <th>Yimin Lu</th>\n",
       "      <td>Group058</td>\n",
       "      <td>Group038</td>\n",
       "    </tr>\n",
       "    <tr>\n",
       "      <th>Dong Pham</th>\n",
       "      <td>Group058</td>\n",
       "      <td>Group013</td>\n",
       "    </tr>\n",
       "  </tbody>\n",
       "</table>\n",
       "<p>267 rows × 2 columns</p>\n",
       "</div>"
      ],
      "text/plain": [
       "                          group should review\n",
       "name                                         \n",
       "Ana Cunha              Group000      Group005\n",
       "Esmeralda Mejia-Trejo  Group000      Group003\n",
       "Kimberly Johnson       Group000      Group001\n",
       "Alan Cao               Group001      Group017\n",
       "Robert Aispuro         Group001      Group045\n",
       "...                         ...           ...\n",
       "Jalani Bowman          Group057      Group043\n",
       "Alexander Huynh        Group058      Group058\n",
       "Jenny Vu               Group058      Group017\n",
       "Yimin Lu               Group058      Group038\n",
       "Dong Pham              Group058      Group013\n",
       "\n",
       "[267 rows x 2 columns]"
      ]
     },
     "execution_count": 33,
     "metadata": {},
     "output_type": "execute_result"
    }
   ],
   "source": [
    "pdf['should review'] = np.random.permutation(pdf.group)\n",
    "pdf"
   ]
  },
  {
   "cell_type": "code",
   "execution_count": 34,
   "id": "9a686ecd",
   "metadata": {},
   "outputs": [],
   "source": [
    "problems = pdf.group == pdf['should review']"
   ]
  },
  {
   "cell_type": "code",
   "execution_count": 35,
   "id": "b77b4002",
   "metadata": {},
   "outputs": [
    {
     "data": {
      "text/plain": [
       "4"
      ]
     },
     "execution_count": 35,
     "metadata": {},
     "output_type": "execute_result"
    }
   ],
   "source": [
    "problems.sum()"
   ]
  },
  {
   "cell_type": "code",
   "execution_count": 36,
   "id": "b12c1e50",
   "metadata": {},
   "outputs": [
    {
     "data": {
      "text/html": [
       "<div>\n",
       "<style scoped>\n",
       "    .dataframe tbody tr th:only-of-type {\n",
       "        vertical-align: middle;\n",
       "    }\n",
       "\n",
       "    .dataframe tbody tr th {\n",
       "        vertical-align: top;\n",
       "    }\n",
       "\n",
       "    .dataframe thead th {\n",
       "        text-align: right;\n",
       "    }\n",
       "</style>\n",
       "<table border=\"1\" class=\"dataframe\">\n",
       "  <thead>\n",
       "    <tr style=\"text-align: right;\">\n",
       "      <th></th>\n",
       "      <th>group</th>\n",
       "      <th>should review</th>\n",
       "    </tr>\n",
       "    <tr>\n",
       "      <th>name</th>\n",
       "      <th></th>\n",
       "      <th></th>\n",
       "    </tr>\n",
       "  </thead>\n",
       "  <tbody>\n",
       "    <tr>\n",
       "      <th>Alex Tyler</th>\n",
       "      <td>Group002</td>\n",
       "      <td>Group002</td>\n",
       "    </tr>\n",
       "    <tr>\n",
       "      <th>Kyle Moore</th>\n",
       "      <td>Group036</td>\n",
       "      <td>Group036</td>\n",
       "    </tr>\n",
       "    <tr>\n",
       "      <th>Hwi Yeo</th>\n",
       "      <td>Group040</td>\n",
       "      <td>Group040</td>\n",
       "    </tr>\n",
       "    <tr>\n",
       "      <th>Alexander Huynh</th>\n",
       "      <td>Group058</td>\n",
       "      <td>Group058</td>\n",
       "    </tr>\n",
       "  </tbody>\n",
       "</table>\n",
       "</div>"
      ],
      "text/plain": [
       "                    group should review\n",
       "name                                   \n",
       "Alex Tyler       Group002      Group002\n",
       "Kyle Moore       Group036      Group036\n",
       "Hwi Yeo          Group040      Group040\n",
       "Alexander Huynh  Group058      Group058"
      ]
     },
     "execution_count": 36,
     "metadata": {},
     "output_type": "execute_result"
    }
   ],
   "source": [
    "pdf.loc[problems]"
   ]
  },
  {
   "cell_type": "code",
   "execution_count": 40,
   "id": "b844d4ba",
   "metadata": {},
   "outputs": [],
   "source": [
    "pdf.loc[problems, 'should review'] = pdf.loc[problems,'should review'].to_list()[::-1]"
   ]
  },
  {
   "cell_type": "code",
   "execution_count": 41,
   "id": "f2a6b089",
   "metadata": {},
   "outputs": [
    {
     "data": {
      "text/html": [
       "<div>\n",
       "<style scoped>\n",
       "    .dataframe tbody tr th:only-of-type {\n",
       "        vertical-align: middle;\n",
       "    }\n",
       "\n",
       "    .dataframe tbody tr th {\n",
       "        vertical-align: top;\n",
       "    }\n",
       "\n",
       "    .dataframe thead th {\n",
       "        text-align: right;\n",
       "    }\n",
       "</style>\n",
       "<table border=\"1\" class=\"dataframe\">\n",
       "  <thead>\n",
       "    <tr style=\"text-align: right;\">\n",
       "      <th></th>\n",
       "      <th>group</th>\n",
       "      <th>should review</th>\n",
       "    </tr>\n",
       "    <tr>\n",
       "      <th>name</th>\n",
       "      <th></th>\n",
       "      <th></th>\n",
       "    </tr>\n",
       "  </thead>\n",
       "  <tbody>\n",
       "    <tr>\n",
       "      <th>Alex Tyler</th>\n",
       "      <td>Group002</td>\n",
       "      <td>Group058</td>\n",
       "    </tr>\n",
       "    <tr>\n",
       "      <th>Kyle Moore</th>\n",
       "      <td>Group036</td>\n",
       "      <td>Group040</td>\n",
       "    </tr>\n",
       "    <tr>\n",
       "      <th>Hwi Yeo</th>\n",
       "      <td>Group040</td>\n",
       "      <td>Group036</td>\n",
       "    </tr>\n",
       "    <tr>\n",
       "      <th>Alexander Huynh</th>\n",
       "      <td>Group058</td>\n",
       "      <td>Group002</td>\n",
       "    </tr>\n",
       "  </tbody>\n",
       "</table>\n",
       "</div>"
      ],
      "text/plain": [
       "                    group should review\n",
       "name                                   \n",
       "Alex Tyler       Group002      Group058\n",
       "Kyle Moore       Group036      Group040\n",
       "Hwi Yeo          Group040      Group036\n",
       "Alexander Huynh  Group058      Group002"
      ]
     },
     "execution_count": 41,
     "metadata": {},
     "output_type": "execute_result"
    }
   ],
   "source": [
    "pdf.loc[problems]\n",
    "# no more problems!"
   ]
  },
  {
   "cell_type": "code",
   "execution_count": 43,
   "id": "bd6049c8",
   "metadata": {},
   "outputs": [
    {
     "data": {
      "text/plain": [
       "1    55\n",
       "2     3\n",
       "Name: should review, dtype: int64"
      ]
     },
     "execution_count": 43,
     "metadata": {},
     "output_type": "execute_result"
    }
   ],
   "source": [
    "pdf.groupby('group')['should review'].agg( lambda x: x.value_counts().max()).value_counts()"
   ]
  },
  {
   "cell_type": "code",
   "execution_count": 45,
   "id": "e0e4f25a",
   "metadata": {},
   "outputs": [],
   "source": [
    "pdf.drop('group',axis=1).to_csv('assigned_review.csv')"
   ]
  },
  {
   "cell_type": "code",
   "execution_count": null,
   "id": "25010dcc",
   "metadata": {},
   "outputs": [],
   "source": []
  }
 ],
 "metadata": {
  "kernelspec": {
   "display_name": "Python 3",
   "language": "python",
   "name": "python3"
  },
  "language_info": {
   "codemirror_mode": {
    "name": "ipython",
    "version": 3
   },
   "file_extension": ".py",
   "mimetype": "text/x-python",
   "name": "python",
   "nbconvert_exporter": "python",
   "pygments_lexer": "ipython3",
   "version": "3.8.8"
  }
 },
 "nbformat": 4,
 "nbformat_minor": 5
}
